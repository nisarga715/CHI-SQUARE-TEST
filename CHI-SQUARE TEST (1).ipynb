{
 "cells": [
  {
   "cell_type": "markdown",
   "id": "dea1b484-dc25-4dc5-ab37-f4c2883d1f46",
   "metadata": {},
   "source": [
    "## Association between Device Type and Customer Satisfaction\n",
    "Background:\n",
    "Mizzare Corporation has collected data on customer satisfaction levels for two types of smart home devices: Smart Thermostats and Smart Lights. They want to determine if there's a significant association between the type of device purchased and the customer's satisfaction level.\n"
   ]
  },
  {
   "cell_type": "code",
   "execution_count": 3,
   "id": "9d649fe4-525a-433b-bb81-e3a5f02ff329",
   "metadata": {},
   "outputs": [],
   "source": [
    "# H0-- There's no significant association between the type of device purchased and the customer's satisfaction level.\n",
    "# Ha-- There's significant association between the type of device purchased and the customer's satisfaction level."
   ]
  },
  {
   "cell_type": "code",
   "execution_count": 1,
   "id": "6768423f-56ff-4a6c-acf3-be77ada1b49a",
   "metadata": {},
   "outputs": [],
   "source": [
    "import pandas as pd\n",
    "import scipy.stats as stats"
   ]
  },
  {
   "cell_type": "code",
   "execution_count": 7,
   "id": "14e1b28a-8a93-451a-939b-0dff1642155b",
   "metadata": {},
   "outputs": [],
   "source": [
    "data2= { \"Smart Thermostat\": [50, 80, 60, 30, 20, 240],\n",
    "    \"Smart Light\": [70, 100, 90, 50, 50, 360]}"
   ]
  },
  {
   "cell_type": "code",
   "execution_count": 9,
   "id": "34bdc5bd-0c97-400e-95fe-22c75c5568ff",
   "metadata": {},
   "outputs": [],
   "source": [
    "df2=pd.DataFrame(data2)"
   ]
  },
  {
   "cell_type": "code",
   "execution_count": 11,
   "id": "e3829ce5-2c4c-4c14-af8a-3c001bc148ca",
   "metadata": {},
   "outputs": [
    {
     "data": {
      "text/html": [
       "<div>\n",
       "<style scoped>\n",
       "    .dataframe tbody tr th:only-of-type {\n",
       "        vertical-align: middle;\n",
       "    }\n",
       "\n",
       "    .dataframe tbody tr th {\n",
       "        vertical-align: top;\n",
       "    }\n",
       "\n",
       "    .dataframe thead th {\n",
       "        text-align: right;\n",
       "    }\n",
       "</style>\n",
       "<table border=\"1\" class=\"dataframe\">\n",
       "  <thead>\n",
       "    <tr style=\"text-align: right;\">\n",
       "      <th></th>\n",
       "      <th>Smart Thermostat</th>\n",
       "      <th>Smart Light</th>\n",
       "    </tr>\n",
       "  </thead>\n",
       "  <tbody>\n",
       "    <tr>\n",
       "      <th>0</th>\n",
       "      <td>50</td>\n",
       "      <td>70</td>\n",
       "    </tr>\n",
       "    <tr>\n",
       "      <th>1</th>\n",
       "      <td>80</td>\n",
       "      <td>100</td>\n",
       "    </tr>\n",
       "    <tr>\n",
       "      <th>2</th>\n",
       "      <td>60</td>\n",
       "      <td>90</td>\n",
       "    </tr>\n",
       "    <tr>\n",
       "      <th>3</th>\n",
       "      <td>30</td>\n",
       "      <td>50</td>\n",
       "    </tr>\n",
       "    <tr>\n",
       "      <th>4</th>\n",
       "      <td>20</td>\n",
       "      <td>50</td>\n",
       "    </tr>\n",
       "    <tr>\n",
       "      <th>5</th>\n",
       "      <td>240</td>\n",
       "      <td>360</td>\n",
       "    </tr>\n",
       "  </tbody>\n",
       "</table>\n",
       "</div>"
      ],
      "text/plain": [
       "   Smart Thermostat  Smart Light\n",
       "0                50           70\n",
       "1                80          100\n",
       "2                60           90\n",
       "3                30           50\n",
       "4                20           50\n",
       "5               240          360"
      ]
     },
     "execution_count": 11,
     "metadata": {},
     "output_type": "execute_result"
    }
   ],
   "source": [
    "df2"
   ]
  },
  {
   "cell_type": "code",
   "execution_count": 13,
   "id": "224b269f-289a-4f05-992d-3009e691c878",
   "metadata": {},
   "outputs": [
    {
     "data": {
      "text/plain": [
       "Chi2ContingencyResult(statistic=5.638227513227513, pvalue=0.34302665036550706, dof=5, expected_freq=array([[ 48.,  72.],\n",
       "       [ 72., 108.],\n",
       "       [ 60.,  90.],\n",
       "       [ 32.,  48.],\n",
       "       [ 28.,  42.],\n",
       "       [240., 360.]]))"
      ]
     },
     "execution_count": 13,
     "metadata": {},
     "output_type": "execute_result"
    }
   ],
   "source": [
    "# Compute the Chi-Square Statistic:\n",
    "stats.chi2_contingency(df2)"
   ]
  },
  {
   "cell_type": "code",
   "execution_count": 15,
   "id": "da33e909-e558-4cd1-94e6-f98122e3ed8a",
   "metadata": {},
   "outputs": [
    {
     "data": {
      "text/plain": [
       "4.521548726594906"
      ]
     },
     "execution_count": 15,
     "metadata": {},
     "output_type": "execute_result"
    }
   ],
   "source": [
    "# Determine the Critical Value:\n",
    "\n",
    "alpha=0.34\n",
    "df=4\n",
    "critical_value = stats.chi2.ppf(1 - alpha, df)\n",
    "critical_value"
   ]
  },
  {
   "cell_type": "code",
   "execution_count": 17,
   "id": "b9ce6d6f-c268-40b9-b8a8-d88df99a29e7",
   "metadata": {},
   "outputs": [],
   "source": [
    "# critical_vallue=4.52 , pvalue=0.34\n",
    "# As critical_value > Pvalue fail to reject H0\n",
    "# Hence there's no significant association between the type of device purchased and the customer's satisfaction level."
   ]
  },
  {
   "cell_type": "markdown",
   "id": "0e69b016-0eba-42f6-b8f9-069299d222b4",
   "metadata": {},
   "source": [
    "conclusion\n",
    "There is a significant association between device type and customer satisfaction.\n",
    "No significant association between device type and customer satisfaction."
   ]
  }
 ],
 "metadata": {
  "kernelspec": {
   "display_name": "Python 3 (ipykernel)",
   "language": "python",
   "name": "python3"
  },
  "language_info": {
   "codemirror_mode": {
    "name": "ipython",
    "version": 3
   },
   "file_extension": ".py",
   "mimetype": "text/x-python",
   "name": "python",
   "nbconvert_exporter": "python",
   "pygments_lexer": "ipython3",
   "version": "3.11.7"
  }
 },
 "nbformat": 4,
 "nbformat_minor": 5
}
